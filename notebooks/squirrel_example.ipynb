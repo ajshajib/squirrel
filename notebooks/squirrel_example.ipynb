{
 "cells": [
  {
   "cell_type": "markdown",
   "metadata": {},
   "source": [
    "This notebook requires the \"./data/mock_datacube.fits\" file. The notebook \"simulate_mock_datacube.ipynb\" needs to be run to create that datacube."
   ]
  },
  {
   "cell_type": "code",
   "execution_count": 1,
   "metadata": {},
   "outputs": [
    {
     "data": {
      "text/plain": [
       "'0.0.0'"
      ]
     },
     "execution_count": 1,
     "metadata": {},
     "output_type": "execute_result"
    }
   ],
   "source": [
    "import numpy as np\n",
    "from astropy.io import fits\n",
    "\n",
    "import squirrel\n",
    "from squirrel.data import Datacube\n",
    "\n",
    "squirrel.__version__"
   ]
  },
  {
   "cell_type": "code",
   "execution_count": 2,
   "metadata": {},
   "outputs": [],
   "source": [
    "data, header = fits.getdata(\"./data/mock_datacube.fits\", header=True)"
   ]
  },
  {
   "cell_type": "code",
   "execution_count": 3,
   "metadata": {},
   "outputs": [
    {
     "data": {
      "text/plain": [
       "(362, 35, 35)"
      ]
     },
     "execution_count": 3,
     "metadata": {},
     "output_type": "execute_result"
    }
   ],
   "source": [
    "data.shape"
   ]
  },
  {
   "cell_type": "code",
   "execution_count": 4,
   "metadata": {},
   "outputs": [
    {
     "data": {
      "text/plain": [
       "SIMPLE  =                    T / conforms to FITS standard                      \n",
       "BITPIX  =                  -64 / array data type                                \n",
       "NAXIS   =                    3 / number of array dimensions                     \n",
       "NAXIS1  =                   35                                                  \n",
       "NAXIS2  =                   35                                                  \n",
       "NAXIS3  =                  362                                                  \n",
       "CRPIX1  =                   17                                                  \n",
       "CRPIX2  =                   17                                                  \n",
       "CRVAL1  =                  0.0                                                  \n",
       "CRVAL2  =                  0.0                                                  \n",
       "CDELT1  =                  0.1                                                  \n",
       "CDELT2  =                  0.1                                                  \n",
       "CTYPE1  = 'RA---TAN'                                                            \n",
       "CTYPE2  = 'DEC--TAN'                                                            \n",
       "CRPIX3  =                    1                                                  \n",
       "CRVAL3  =   0.9703180286160205                                                  \n",
       "CDELT3  = 0.000636000011581927                                                  \n",
       "CTYPE3  = 'WAVE    '                                                            \n",
       "BUNIT   = 'arbitrar'                                                            \n",
       "CUNIT1  = 'arcsec  '                                                            \n",
       "CUNIT2  = 'arcsec  '                                                            \n",
       "CUNIT3  = 'um      '                                                            "
      ]
     },
     "execution_count": 4,
     "metadata": {},
     "output_type": "execute_result"
    }
   ],
   "source": [
    "header"
   ]
  },
  {
   "cell_type": "code",
   "execution_count": 5,
   "metadata": {},
   "outputs": [],
   "source": [
    "wavelengths = header[\"CRVAL3\"] + header[\"CDELT3\"] * (1 + np.arange(header[\"NAXIS3\"]))\n",
    "\n",
    "datacube = Datacube(data, wavelengths, \"um\")"
   ]
  },
  {
   "cell_type": "code",
   "execution_count": null,
   "metadata": {},
   "outputs": [],
   "source": []
  }
 ],
 "metadata": {
  "kernelspec": {
   "display_name": "base",
   "language": "python",
   "name": "python3"
  },
  "language_info": {
   "codemirror_mode": {
    "name": "ipython",
    "version": 3
   },
   "file_extension": ".py",
   "mimetype": "text/x-python",
   "name": "python",
   "nbconvert_exporter": "python",
   "pygments_lexer": "ipython3",
   "version": "3.11.8"
  }
 },
 "nbformat": 4,
 "nbformat_minor": 2
}
